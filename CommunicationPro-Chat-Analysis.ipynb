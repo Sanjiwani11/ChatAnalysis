{
 "cells": [
  {
   "cell_type": "code",
   "execution_count": 238,
   "id": "1333ea47",
   "metadata": {
    "scrolled": true
   },
   "outputs": [
    {
     "name": "stderr",
     "output_type": "stream",
     "text": [
      "[nltk_data] Downloading package vader_lexicon to\n",
      "[nltk_data]     C:\\Users\\USER\\AppData\\Roaming\\nltk_data...\n",
      "[nltk_data]   Package vader_lexicon is already up-to-date!\n"
     ]
    }
   ],
   "source": [
    "import re\n",
    "import pandas as pd\n",
    "from nltk.sentiment.vader import SentimentIntensityAnalyzer\n",
    "import nltk\n",
    "nltk.download('vader_lexicon')\n",
    "import matplotlib.pyplot as plt\n",
    "import io"
   ]
  },
  {
   "cell_type": "code",
   "execution_count": 256,
   "id": "ad8fffa1",
   "metadata": {},
   "outputs": [],
   "source": [
    "f = open('message.txt', 'r', encoding='utf-8')"
   ]
  },
  {
   "cell_type": "code",
   "execution_count": 257,
   "id": "396e43b4",
   "metadata": {},
   "outputs": [],
   "source": [
    "df = f.read()"
   ]
  },
  {
   "cell_type": "code",
   "execution_count": 258,
   "id": "885f9936",
   "metadata": {},
   "outputs": [
    {
     "name": "stdout",
     "output_type": "stream",
     "text": [
      "                   createdAt                    sender  \\\n",
      "0   2023-03-11T07:35:35.731Z  640c28b2da692952d67e3c5d   \n",
      "1   2023-03-11T07:37:25.661Z  640c287dda692952d67e3c56   \n",
      "2   2023-03-11T07:37:31.112Z  640c287dda692952d67e3c56   \n",
      "3   2023-03-11T07:37:53.880Z  640c28b2da692952d67e3c5d   \n",
      "4   2023-03-11T07:38:22.623Z  640c287dda692952d67e3c56   \n",
      "5   2023-03-11T07:38:34.989Z  640c287dda692952d67e3c56   \n",
      "6   2023-03-11T07:51:06.553Z  640c28b2da692952d67e3c5d   \n",
      "7   2023-03-11T07:51:23.451Z  640c28b2da692952d67e3c5d   \n",
      "8   2023-03-11T07:51:30.646Z  640c28b2da692952d67e3c5d   \n",
      "9   2023-03-11T07:52:06.887Z  640c287dda692952d67e3c56   \n",
      "10  2023-03-11T07:52:48.903Z  640c28b2da692952d67e3c5d   \n",
      "11  2023-03-11T07:52:58.141Z  640c28b2da692952d67e3c5d   \n",
      "12  2023-03-11T07:53:23.661Z  640c28b2da692952d67e3c5d   \n",
      "13  2023-03-11T07:53:30.580Z  640c28b2da692952d67e3c5d   \n",
      "14  2023-03-11T07:53:36.151Z  640c28b2da692952d67e3c5d   \n",
      "15  2023-03-11T07:53:50.640Z  640c287dda692952d67e3c56   \n",
      "16  2023-03-11T07:53:53.884Z  640c287dda692952d67e3c56   \n",
      "17  2023-03-11T07:58:29.253Z  640c28b2da692952d67e3c5d   \n",
      "\n",
      "                                              content  \n",
      "0                                      Where are you?  \n",
      "1                                  I am in the office  \n",
      "2                                      Where are you?  \n",
      "3                          Did you complete the task?  \n",
      "4                                       No I have not  \n",
      "5                           I will do it my next week  \n",
      "6                              But we have a deadline  \n",
      "7     I don't understand why are you so irresponsible  \n",
      "8                               This is getting worst  \n",
      "9   I am sorry I will get the task done by tomorro...  \n",
      "10                         I am looking forward to it  \n",
      "11                     Hope you take this as a lesson  \n",
      "12                           https://www.mongodb.com/  \n",
      "13                             look at this link also  \n",
      "14                          and complete the job asap  \n",
      "15                                         I am sorry  \n",
      "16                                  I will do it asap  \n",
      "17         and report it to you by the end of the day  \n"
     ]
    }
   ],
   "source": [
    "df_new = pd.read_csv(io.StringIO(df))\n",
    "print(df_new)"
   ]
  },
  {
   "cell_type": "code",
   "execution_count": 259,
   "id": "3f61c310",
   "metadata": {},
   "outputs": [
    {
     "name": "stdout",
     "output_type": "stream",
     "text": [
      "                   createdAt                    sender  \\\n",
      "0   2023-03-11T07:35:35.731Z  640c28b2da692952d67e3c5d   \n",
      "1   2023-03-11T07:37:25.661Z  640c287dda692952d67e3c56   \n",
      "2   2023-03-11T07:37:31.112Z  640c287dda692952d67e3c56   \n",
      "3   2023-03-11T07:37:53.880Z  640c28b2da692952d67e3c5d   \n",
      "4   2023-03-11T07:38:22.623Z  640c287dda692952d67e3c56   \n",
      "5   2023-03-11T07:38:34.989Z  640c287dda692952d67e3c56   \n",
      "6   2023-03-11T07:51:06.553Z  640c28b2da692952d67e3c5d   \n",
      "7   2023-03-11T07:51:23.451Z  640c28b2da692952d67e3c5d   \n",
      "8   2023-03-11T07:51:30.646Z  640c28b2da692952d67e3c5d   \n",
      "9   2023-03-11T07:52:06.887Z  640c287dda692952d67e3c56   \n",
      "10  2023-03-11T07:52:48.903Z  640c28b2da692952d67e3c5d   \n",
      "11  2023-03-11T07:52:58.141Z  640c28b2da692952d67e3c5d   \n",
      "12  2023-03-11T07:53:23.661Z  640c28b2da692952d67e3c5d   \n",
      "13  2023-03-11T07:53:30.580Z  640c28b2da692952d67e3c5d   \n",
      "14  2023-03-11T07:53:36.151Z  640c28b2da692952d67e3c5d   \n",
      "15  2023-03-11T07:53:50.640Z  640c287dda692952d67e3c56   \n",
      "16  2023-03-11T07:53:53.884Z  640c287dda692952d67e3c56   \n",
      "17  2023-03-11T07:58:29.253Z  640c28b2da692952d67e3c5d   \n",
      "\n",
      "                                              content  \n",
      "0                                      Where are you?  \n",
      "1                                  I am in the office  \n",
      "2                                      Where are you?  \n",
      "3                          Did you complete the task?  \n",
      "4                                       No I have not  \n",
      "5                           I will do it my next week  \n",
      "6                              But we have a deadline  \n",
      "7     I don't understand why are you so irresponsible  \n",
      "8                               This is getting worst  \n",
      "9   I am sorry I will get the task done by tomorro...  \n",
      "10                         I am looking forward to it  \n",
      "11                     Hope you take this as a lesson  \n",
      "12                           https://www.mongodb.com/  \n",
      "13                             look at this link also  \n",
      "14                          and complete the job asap  \n",
      "15                                         I am sorry  \n",
      "16                                  I will do it asap  \n",
      "17         and report it to you by the end of the day  \n"
     ]
    }
   ],
   "source": [
    "print(df_new)"
   ]
  },
  {
   "cell_type": "code",
   "execution_count": 266,
   "id": "2e195cd3",
   "metadata": {},
   "outputs": [
    {
     "ename": "KeyError",
     "evalue": "'createdAt'",
     "output_type": "error",
     "traceback": [
      "\u001b[1;31m---------------------------------------------------------------------------\u001b[0m",
      "\u001b[1;31mKeyError\u001b[0m                                  Traceback (most recent call last)",
      "\u001b[1;32m~\\AppData\\Roaming\\Python\\Python39\\site-packages\\pandas\\core\\indexes\\base.py\u001b[0m in \u001b[0;36mget_loc\u001b[1;34m(self, key, method, tolerance)\u001b[0m\n\u001b[0;32m   3360\u001b[0m             \u001b[1;32mtry\u001b[0m\u001b[1;33m:\u001b[0m\u001b[1;33m\u001b[0m\u001b[1;33m\u001b[0m\u001b[0m\n\u001b[1;32m-> 3361\u001b[1;33m                 \u001b[1;32mreturn\u001b[0m \u001b[0mself\u001b[0m\u001b[1;33m.\u001b[0m\u001b[0m_engine\u001b[0m\u001b[1;33m.\u001b[0m\u001b[0mget_loc\u001b[0m\u001b[1;33m(\u001b[0m\u001b[0mcasted_key\u001b[0m\u001b[1;33m)\u001b[0m\u001b[1;33m\u001b[0m\u001b[1;33m\u001b[0m\u001b[0m\n\u001b[0m\u001b[0;32m   3362\u001b[0m             \u001b[1;32mexcept\u001b[0m \u001b[0mKeyError\u001b[0m \u001b[1;32mas\u001b[0m \u001b[0merr\u001b[0m\u001b[1;33m:\u001b[0m\u001b[1;33m\u001b[0m\u001b[1;33m\u001b[0m\u001b[0m\n",
      "\u001b[1;32m~\\AppData\\Roaming\\Python\\Python39\\site-packages\\pandas\\_libs\\index.pyx\u001b[0m in \u001b[0;36mpandas._libs.index.IndexEngine.get_loc\u001b[1;34m()\u001b[0m\n",
      "\u001b[1;32m~\\AppData\\Roaming\\Python\\Python39\\site-packages\\pandas\\_libs\\index.pyx\u001b[0m in \u001b[0;36mpandas._libs.index.IndexEngine.get_loc\u001b[1;34m()\u001b[0m\n",
      "\u001b[1;32mpandas\\_libs\\hashtable_class_helper.pxi\u001b[0m in \u001b[0;36mpandas._libs.hashtable.PyObjectHashTable.get_item\u001b[1;34m()\u001b[0m\n",
      "\u001b[1;32mpandas\\_libs\\hashtable_class_helper.pxi\u001b[0m in \u001b[0;36mpandas._libs.hashtable.PyObjectHashTable.get_item\u001b[1;34m()\u001b[0m\n",
      "\u001b[1;31mKeyError\u001b[0m: 'createdAt'",
      "\nThe above exception was the direct cause of the following exception:\n",
      "\u001b[1;31mKeyError\u001b[0m                                  Traceback (most recent call last)",
      "\u001b[1;32m~\\AppData\\Local\\Temp\\ipykernel_6520\\1068198569.py\u001b[0m in \u001b[0;36m<module>\u001b[1;34m\u001b[0m\n\u001b[1;32m----> 1\u001b[1;33m \u001b[0mdf_new\u001b[0m\u001b[1;33m[\u001b[0m\u001b[1;34m'createdAt'\u001b[0m\u001b[1;33m]\u001b[0m \u001b[1;33m=\u001b[0m \u001b[0mdf_new\u001b[0m\u001b[1;33m[\u001b[0m\u001b[1;34m'createdAt'\u001b[0m\u001b[1;33m]\u001b[0m\u001b[1;33m.\u001b[0m\u001b[0mstr\u001b[0m\u001b[1;33m[\u001b[0m\u001b[1;33m:\u001b[0m\u001b[1;33m-\u001b[0m\u001b[1;36m4\u001b[0m\u001b[1;33m]\u001b[0m\u001b[1;33m\u001b[0m\u001b[1;33m\u001b[0m\u001b[0m\n\u001b[0m\u001b[0;32m      2\u001b[0m \u001b[0mprint\u001b[0m\u001b[1;33m(\u001b[0m\u001b[0mdf_new\u001b[0m\u001b[1;33m)\u001b[0m\u001b[1;33m\u001b[0m\u001b[1;33m\u001b[0m\u001b[0m\n",
      "\u001b[1;32m~\\AppData\\Roaming\\Python\\Python39\\site-packages\\pandas\\core\\frame.py\u001b[0m in \u001b[0;36m__getitem__\u001b[1;34m(self, key)\u001b[0m\n\u001b[0;32m   3453\u001b[0m             \u001b[1;32mif\u001b[0m \u001b[0mself\u001b[0m\u001b[1;33m.\u001b[0m\u001b[0mcolumns\u001b[0m\u001b[1;33m.\u001b[0m\u001b[0mnlevels\u001b[0m \u001b[1;33m>\u001b[0m \u001b[1;36m1\u001b[0m\u001b[1;33m:\u001b[0m\u001b[1;33m\u001b[0m\u001b[1;33m\u001b[0m\u001b[0m\n\u001b[0;32m   3454\u001b[0m                 \u001b[1;32mreturn\u001b[0m \u001b[0mself\u001b[0m\u001b[1;33m.\u001b[0m\u001b[0m_getitem_multilevel\u001b[0m\u001b[1;33m(\u001b[0m\u001b[0mkey\u001b[0m\u001b[1;33m)\u001b[0m\u001b[1;33m\u001b[0m\u001b[1;33m\u001b[0m\u001b[0m\n\u001b[1;32m-> 3455\u001b[1;33m             \u001b[0mindexer\u001b[0m \u001b[1;33m=\u001b[0m \u001b[0mself\u001b[0m\u001b[1;33m.\u001b[0m\u001b[0mcolumns\u001b[0m\u001b[1;33m.\u001b[0m\u001b[0mget_loc\u001b[0m\u001b[1;33m(\u001b[0m\u001b[0mkey\u001b[0m\u001b[1;33m)\u001b[0m\u001b[1;33m\u001b[0m\u001b[1;33m\u001b[0m\u001b[0m\n\u001b[0m\u001b[0;32m   3456\u001b[0m             \u001b[1;32mif\u001b[0m \u001b[0mis_integer\u001b[0m\u001b[1;33m(\u001b[0m\u001b[0mindexer\u001b[0m\u001b[1;33m)\u001b[0m\u001b[1;33m:\u001b[0m\u001b[1;33m\u001b[0m\u001b[1;33m\u001b[0m\u001b[0m\n\u001b[0;32m   3457\u001b[0m                 \u001b[0mindexer\u001b[0m \u001b[1;33m=\u001b[0m \u001b[1;33m[\u001b[0m\u001b[0mindexer\u001b[0m\u001b[1;33m]\u001b[0m\u001b[1;33m\u001b[0m\u001b[1;33m\u001b[0m\u001b[0m\n",
      "\u001b[1;32m~\\AppData\\Roaming\\Python\\Python39\\site-packages\\pandas\\core\\indexes\\base.py\u001b[0m in \u001b[0;36mget_loc\u001b[1;34m(self, key, method, tolerance)\u001b[0m\n\u001b[0;32m   3361\u001b[0m                 \u001b[1;32mreturn\u001b[0m \u001b[0mself\u001b[0m\u001b[1;33m.\u001b[0m\u001b[0m_engine\u001b[0m\u001b[1;33m.\u001b[0m\u001b[0mget_loc\u001b[0m\u001b[1;33m(\u001b[0m\u001b[0mcasted_key\u001b[0m\u001b[1;33m)\u001b[0m\u001b[1;33m\u001b[0m\u001b[1;33m\u001b[0m\u001b[0m\n\u001b[0;32m   3362\u001b[0m             \u001b[1;32mexcept\u001b[0m \u001b[0mKeyError\u001b[0m \u001b[1;32mas\u001b[0m \u001b[0merr\u001b[0m\u001b[1;33m:\u001b[0m\u001b[1;33m\u001b[0m\u001b[1;33m\u001b[0m\u001b[0m\n\u001b[1;32m-> 3363\u001b[1;33m                 \u001b[1;32mraise\u001b[0m \u001b[0mKeyError\u001b[0m\u001b[1;33m(\u001b[0m\u001b[0mkey\u001b[0m\u001b[1;33m)\u001b[0m \u001b[1;32mfrom\u001b[0m \u001b[0merr\u001b[0m\u001b[1;33m\u001b[0m\u001b[1;33m\u001b[0m\u001b[0m\n\u001b[0m\u001b[0;32m   3364\u001b[0m \u001b[1;33m\u001b[0m\u001b[0m\n\u001b[0;32m   3365\u001b[0m         \u001b[1;32mif\u001b[0m \u001b[0mis_scalar\u001b[0m\u001b[1;33m(\u001b[0m\u001b[0mkey\u001b[0m\u001b[1;33m)\u001b[0m \u001b[1;32mand\u001b[0m \u001b[0misna\u001b[0m\u001b[1;33m(\u001b[0m\u001b[0mkey\u001b[0m\u001b[1;33m)\u001b[0m \u001b[1;32mand\u001b[0m \u001b[1;32mnot\u001b[0m \u001b[0mself\u001b[0m\u001b[1;33m.\u001b[0m\u001b[0mhasnans\u001b[0m\u001b[1;33m:\u001b[0m\u001b[1;33m\u001b[0m\u001b[1;33m\u001b[0m\u001b[0m\n",
      "\u001b[1;31mKeyError\u001b[0m: 'createdAt'"
     ]
    }
   ],
   "source": [
    "df_new['createdAt'] = df_new['createdAt'].str[:-4]\n",
    "print(df_new)"
   ]
  },
  {
   "cell_type": "code",
   "execution_count": 262,
   "id": "3e29fbda",
   "metadata": {},
   "outputs": [
    {
     "name": "stdout",
     "output_type": "stream",
     "text": [
      "createdAt,sender,content\n",
      "2023-03-11T07:35:35.731Z,640c28b2da692952d67e3c5d,Where are you?\n",
      "2023-03-11T07:37:25.661Z,640c287dda692952d67e3c56,I am in the office\n",
      "2023-03-11T07:37:31.112Z,640c287dda692952d67e3c56,Where are you?\n",
      "2023-03-11T07:37:53.880Z,640c28b2da692952d67e3c5d,Did you complete the task?\n",
      "2023-03-11T07:38:22.623Z,640c287dda692952d67e3c56,No I have not\n",
      "2023-03-11T07:38:34.989Z,640c287dda692952d67e3c56,I will do it my next week\n",
      "2023-03-11T07:51:06.553Z,640c28b2da692952d67e3c5d,But we have a deadline\n",
      "2023-03-11T07:51:23.451Z,640c28b2da692952d67e3c5d,I don't understand why are you so irresponsible\n",
      "2023-03-11T07:51:30.646Z,640c28b2da692952d67e3c5d,This is getting worst\n",
      "2023-03-11T07:52:06.887Z,640c287dda692952d67e3c56,I am sorry I will get the task done by tomorrow morning\n",
      "2023-03-11T07:52:48.903Z,640c28b2da692952d67e3c5d,I am looking forward to it\n",
      "2023-03-11T07:52:58.141Z,640c28b2da692952d67e3c5d,Hope you take this as a lesson\n",
      "2023-03-11T07:53:23.661Z,640c28b2da692952d67e3c5d,https://www.mongodb.com/\n",
      "2023-03-11T07:53:30.580Z,640c28b2da692952d67e3c5d,look at this link also\n",
      "2023-03-11T07:53:36.151Z,640c28b2da692952d67e3c5d,and complete the job asap\n",
      "2023-03-11T07:53:50.640Z,640c287dda692952d67e3c56,I am sorry\n",
      "2023-03-11T07:53:53.884Z,640c287dda692952d67e3c56,I will do it asap\n",
      "2023-03-11T07:58:29.253Z,640c28b2da692952d67e3c5d,and report it to you by the end of the day\n",
      "\n"
     ]
    }
   ],
   "source": [
    "print(df)"
   ]
  },
  {
   "cell_type": "code",
   "execution_count": 181,
   "id": "4a45158f",
   "metadata": {},
   "outputs": [],
   "source": [
    "f = open('testmessages.txt', 'r', encoding='utf-8')"
   ]
  },
  {
   "cell_type": "code",
   "execution_count": 182,
   "id": "7fef9537",
   "metadata": {},
   "outputs": [],
   "source": [
    "data = f.read()"
   ]
  },
  {
   "cell_type": "code",
   "execution_count": 183,
   "id": "fe6250c4",
   "metadata": {},
   "outputs": [
    {
     "name": "stdout",
     "output_type": "stream",
     "text": [
      "2023-03-11,07:35 - 640c28b2da692952d67e3c5d,Where are you?\n",
      "2023-03-11,07:37 - 640c287dda692952d67e3c56,I am in the office\n",
      "2023-03-11,07:37 - 640c287dda692952d67e3c56,Where are you?\n",
      "2023-03-11,07:37 - 640c28b2da692952d67e3c5d,Did you complete the task?\n",
      "2023-03-11,07:38 - 640c287dda692952d67e3c56,No I have not\n",
      "2023-03-11,07:38 - 640c287dda692952d67e3c56,I will do it my next week\n",
      "2023-03-11,07:51 - 640c28b2da692952d67e3c5d,But we have a deadline\n",
      "2023-03-11,07:51 - 640c28b2da692952d67e3c5d,I don't understand why are you so irresponsible\n",
      "2023-03-11,07:51 - 640c28b2da692952d67e3c5d,This is getting worst\n",
      "2023-03-11,07:52 - 640c287dda692952d67e3c56,I am sorry I will get the task done by tomorrow morning\n",
      "2023-03-11,07:52 - 640c28b2da692952d67e3c5d,I am looking forward to it\n",
      "2023-03-11,07:52 - 640c28b2da692952d67e3c5d,Hope you take this as a lesson\n",
      "2023-03-11,07:53 - 640c28b2da692952d67e3c5d,https://www.mongodb.com/\n",
      "2023-03-11,07:53 - 640c28b2da692952d67e3c5d,look at this link also\n",
      "2023-03-11,07:53 - 640c28b2da692952d67e3c5d,and complete the job asap\n",
      "2023-03-11,07:53 - 640c287dda692952d67e3c56,I am sorry\n",
      "2023-03-11,07:53 - 640c287dda692952d67e3c56,I will do it asap\n",
      "2023-03-11,07:58 - 640c28b2da692952d67e3c5d,and report it to you by the end of the day\n",
      "\n"
     ]
    }
   ],
   "source": [
    "print(data)"
   ]
  },
  {
   "cell_type": "code",
   "execution_count": 184,
   "id": "5ab861ea",
   "metadata": {},
   "outputs": [],
   "source": [
    "pattern = '\\d{2,4}-\\d{1,2}-\\d{1,2},\\d{1,2}:\\d{2}\\s-\\s'"
   ]
  },
  {
   "cell_type": "code",
   "execution_count": 185,
   "id": "57a249b9",
   "metadata": {},
   "outputs": [
    {
     "data": {
      "text/plain": [
       "['640c28b2da692952d67e3c5d,Where are you?\\n',\n",
       " '640c287dda692952d67e3c56,I am in the office\\n',\n",
       " '640c287dda692952d67e3c56,Where are you?\\n',\n",
       " '640c28b2da692952d67e3c5d,Did you complete the task?\\n',\n",
       " '640c287dda692952d67e3c56,No I have not\\n',\n",
       " '640c287dda692952d67e3c56,I will do it my next week\\n',\n",
       " '640c28b2da692952d67e3c5d,But we have a deadline\\n',\n",
       " \"640c28b2da692952d67e3c5d,I don't understand why are you so irresponsible\\n\",\n",
       " '640c28b2da692952d67e3c5d,This is getting worst\\n',\n",
       " '640c287dda692952d67e3c56,I am sorry I will get the task done by tomorrow morning\\n',\n",
       " '640c28b2da692952d67e3c5d,I am looking forward to it\\n',\n",
       " '640c28b2da692952d67e3c5d,Hope you take this as a lesson\\n',\n",
       " '640c28b2da692952d67e3c5d,https://www.mongodb.com/\\n',\n",
       " '640c28b2da692952d67e3c5d,look at this link also\\n',\n",
       " '640c28b2da692952d67e3c5d,and complete the job asap\\n',\n",
       " '640c287dda692952d67e3c56,I am sorry\\n',\n",
       " '640c287dda692952d67e3c56,I will do it asap\\n',\n",
       " '640c28b2da692952d67e3c5d,and report it to you by the end of the day\\n']"
      ]
     },
     "execution_count": 185,
     "metadata": {},
     "output_type": "execute_result"
    }
   ],
   "source": [
    "messages = re.split(pattern, data)[1:]\n",
    "messages"
   ]
  },
  {
   "cell_type": "code",
   "execution_count": 186,
   "id": "8b27e013",
   "metadata": {},
   "outputs": [
    {
     "data": {
      "text/plain": [
       "['2023-03-11,07:35 - ',\n",
       " '2023-03-11,07:37 - ',\n",
       " '2023-03-11,07:37 - ',\n",
       " '2023-03-11,07:37 - ',\n",
       " '2023-03-11,07:38 - ',\n",
       " '2023-03-11,07:38 - ',\n",
       " '2023-03-11,07:51 - ',\n",
       " '2023-03-11,07:51 - ',\n",
       " '2023-03-11,07:51 - ',\n",
       " '2023-03-11,07:52 - ',\n",
       " '2023-03-11,07:52 - ',\n",
       " '2023-03-11,07:52 - ',\n",
       " '2023-03-11,07:53 - ',\n",
       " '2023-03-11,07:53 - ',\n",
       " '2023-03-11,07:53 - ',\n",
       " '2023-03-11,07:53 - ',\n",
       " '2023-03-11,07:53 - ',\n",
       " '2023-03-11,07:58 - ']"
      ]
     },
     "execution_count": 186,
     "metadata": {},
     "output_type": "execute_result"
    }
   ],
   "source": [
    "dates = re.findall(pattern, data)\n",
    "dates"
   ]
  },
  {
   "cell_type": "code",
   "execution_count": 187,
   "id": "167ca61e",
   "metadata": {},
   "outputs": [
    {
     "data": {
      "text/html": [
       "<div>\n",
       "<style scoped>\n",
       "    .dataframe tbody tr th:only-of-type {\n",
       "        vertical-align: middle;\n",
       "    }\n",
       "\n",
       "    .dataframe tbody tr th {\n",
       "        vertical-align: top;\n",
       "    }\n",
       "\n",
       "    .dataframe thead th {\n",
       "        text-align: right;\n",
       "    }\n",
       "</style>\n",
       "<table border=\"1\" class=\"dataframe\">\n",
       "  <thead>\n",
       "    <tr style=\"text-align: right;\">\n",
       "      <th></th>\n",
       "      <th>user_message</th>\n",
       "      <th>date</th>\n",
       "    </tr>\n",
       "  </thead>\n",
       "  <tbody>\n",
       "    <tr>\n",
       "      <th>0</th>\n",
       "      <td>640c28b2da692952d67e3c5d,Where are you?\\n</td>\n",
       "      <td>2023-03-11 07:35:00</td>\n",
       "    </tr>\n",
       "    <tr>\n",
       "      <th>1</th>\n",
       "      <td>640c287dda692952d67e3c56,I am in the office\\n</td>\n",
       "      <td>2023-03-11 07:37:00</td>\n",
       "    </tr>\n",
       "    <tr>\n",
       "      <th>2</th>\n",
       "      <td>640c287dda692952d67e3c56,Where are you?\\n</td>\n",
       "      <td>2023-03-11 07:37:00</td>\n",
       "    </tr>\n",
       "    <tr>\n",
       "      <th>3</th>\n",
       "      <td>640c28b2da692952d67e3c5d,Did you complete the ...</td>\n",
       "      <td>2023-03-11 07:37:00</td>\n",
       "    </tr>\n",
       "    <tr>\n",
       "      <th>4</th>\n",
       "      <td>640c287dda692952d67e3c56,No I have not\\n</td>\n",
       "      <td>2023-03-11 07:38:00</td>\n",
       "    </tr>\n",
       "  </tbody>\n",
       "</table>\n",
       "</div>"
      ],
      "text/plain": [
       "                                        user_message                date\n",
       "0          640c28b2da692952d67e3c5d,Where are you?\\n 2023-03-11 07:35:00\n",
       "1      640c287dda692952d67e3c56,I am in the office\\n 2023-03-11 07:37:00\n",
       "2          640c287dda692952d67e3c56,Where are you?\\n 2023-03-11 07:37:00\n",
       "3  640c28b2da692952d67e3c5d,Did you complete the ... 2023-03-11 07:37:00\n",
       "4           640c287dda692952d67e3c56,No I have not\\n 2023-03-11 07:38:00"
      ]
     },
     "execution_count": 187,
     "metadata": {},
     "output_type": "execute_result"
    }
   ],
   "source": [
    "df = pd.DataFrame({'user_message': messages, 'message_date': dates})\n",
    "# convert message_date type\n",
    "df['message_date'] = pd.to_datetime(df['message_date'], format='%Y-%m-%d,%H:%M - ')\n",
    "\n",
    "df.rename(columns={'message_date': 'date'}, inplace=True)\n",
    "\n",
    "df.head()"
   ]
  },
  {
   "cell_type": "code",
   "execution_count": 188,
   "id": "10588ac9",
   "metadata": {},
   "outputs": [
    {
     "data": {
      "text/plain": [
       "(18, 2)"
      ]
     },
     "execution_count": 188,
     "metadata": {},
     "output_type": "execute_result"
    }
   ],
   "source": [
    "df.shape"
   ]
  },
  {
   "cell_type": "code",
   "execution_count": 189,
   "id": "6b7c7972",
   "metadata": {},
   "outputs": [
    {
     "data": {
      "text/html": [
       "<div>\n",
       "<style scoped>\n",
       "    .dataframe tbody tr th:only-of-type {\n",
       "        vertical-align: middle;\n",
       "    }\n",
       "\n",
       "    .dataframe tbody tr th {\n",
       "        vertical-align: top;\n",
       "    }\n",
       "\n",
       "    .dataframe thead th {\n",
       "        text-align: right;\n",
       "    }\n",
       "</style>\n",
       "<table border=\"1\" class=\"dataframe\">\n",
       "  <thead>\n",
       "    <tr style=\"text-align: right;\">\n",
       "      <th></th>\n",
       "      <th>date</th>\n",
       "      <th>user</th>\n",
       "      <th>message</th>\n",
       "    </tr>\n",
       "  </thead>\n",
       "  <tbody>\n",
       "    <tr>\n",
       "      <th>0</th>\n",
       "      <td>2023-03-11 07:35:00</td>\n",
       "      <td>group_notification</td>\n",
       "      <td>640c28b2da692952d67e3c5d,Where are you?\\n</td>\n",
       "    </tr>\n",
       "    <tr>\n",
       "      <th>1</th>\n",
       "      <td>2023-03-11 07:37:00</td>\n",
       "      <td>group_notification</td>\n",
       "      <td>640c287dda692952d67e3c56,I am in the office\\n</td>\n",
       "    </tr>\n",
       "    <tr>\n",
       "      <th>2</th>\n",
       "      <td>2023-03-11 07:37:00</td>\n",
       "      <td>group_notification</td>\n",
       "      <td>640c287dda692952d67e3c56,Where are you?\\n</td>\n",
       "    </tr>\n",
       "    <tr>\n",
       "      <th>3</th>\n",
       "      <td>2023-03-11 07:37:00</td>\n",
       "      <td>group_notification</td>\n",
       "      <td>640c28b2da692952d67e3c5d,Did you complete the ...</td>\n",
       "    </tr>\n",
       "    <tr>\n",
       "      <th>4</th>\n",
       "      <td>2023-03-11 07:38:00</td>\n",
       "      <td>group_notification</td>\n",
       "      <td>640c287dda692952d67e3c56,No I have not\\n</td>\n",
       "    </tr>\n",
       "  </tbody>\n",
       "</table>\n",
       "</div>"
      ],
      "text/plain": [
       "                 date                user  \\\n",
       "0 2023-03-11 07:35:00  group_notification   \n",
       "1 2023-03-11 07:37:00  group_notification   \n",
       "2 2023-03-11 07:37:00  group_notification   \n",
       "3 2023-03-11 07:37:00  group_notification   \n",
       "4 2023-03-11 07:38:00  group_notification   \n",
       "\n",
       "                                             message  \n",
       "0          640c28b2da692952d67e3c5d,Where are you?\\n  \n",
       "1      640c287dda692952d67e3c56,I am in the office\\n  \n",
       "2          640c287dda692952d67e3c56,Where are you?\\n  \n",
       "3  640c28b2da692952d67e3c5d,Did you complete the ...  \n",
       "4           640c287dda692952d67e3c56,No I have not\\n  "
      ]
     },
     "execution_count": 189,
     "metadata": {},
     "output_type": "execute_result"
    }
   ],
   "source": [
    "# separate users and messages\n",
    "users = []\n",
    "messages = []\n",
    "for message in df['user_message']:\n",
    "    entry = re.split('([\\w\\W]+?):\\s', message)\n",
    "    if entry[1:]: #username\n",
    "        users.append(entry[1])\n",
    "        messages.append(entry[2])\n",
    "    else:\n",
    "        users.append('group_notification')\n",
    "        messages.append(entry[0])\n",
    "\n",
    "df['user'] = users\n",
    "df['message'] = messages\n",
    "df.drop(columns=['user_message'], inplace=True)\n",
    "\n",
    "df.head()"
   ]
  },
  {
   "cell_type": "code",
   "execution_count": 190,
   "id": "3e17d92f",
   "metadata": {},
   "outputs": [],
   "source": [
    "df['year'] = df['date'].dt.year"
   ]
  },
  {
   "cell_type": "code",
   "execution_count": 191,
   "id": "5daa7181",
   "metadata": {},
   "outputs": [
    {
     "data": {
      "text/html": [
       "<div>\n",
       "<style scoped>\n",
       "    .dataframe tbody tr th:only-of-type {\n",
       "        vertical-align: middle;\n",
       "    }\n",
       "\n",
       "    .dataframe tbody tr th {\n",
       "        vertical-align: top;\n",
       "    }\n",
       "\n",
       "    .dataframe thead th {\n",
       "        text-align: right;\n",
       "    }\n",
       "</style>\n",
       "<table border=\"1\" class=\"dataframe\">\n",
       "  <thead>\n",
       "    <tr style=\"text-align: right;\">\n",
       "      <th></th>\n",
       "      <th>date</th>\n",
       "      <th>user</th>\n",
       "      <th>message</th>\n",
       "      <th>year</th>\n",
       "    </tr>\n",
       "  </thead>\n",
       "  <tbody>\n",
       "    <tr>\n",
       "      <th>0</th>\n",
       "      <td>2023-03-11 07:35:00</td>\n",
       "      <td>group_notification</td>\n",
       "      <td>640c28b2da692952d67e3c5d,Where are you?\\n</td>\n",
       "      <td>2023</td>\n",
       "    </tr>\n",
       "    <tr>\n",
       "      <th>1</th>\n",
       "      <td>2023-03-11 07:37:00</td>\n",
       "      <td>group_notification</td>\n",
       "      <td>640c287dda692952d67e3c56,I am in the office\\n</td>\n",
       "      <td>2023</td>\n",
       "    </tr>\n",
       "    <tr>\n",
       "      <th>2</th>\n",
       "      <td>2023-03-11 07:37:00</td>\n",
       "      <td>group_notification</td>\n",
       "      <td>640c287dda692952d67e3c56,Where are you?\\n</td>\n",
       "      <td>2023</td>\n",
       "    </tr>\n",
       "    <tr>\n",
       "      <th>3</th>\n",
       "      <td>2023-03-11 07:37:00</td>\n",
       "      <td>group_notification</td>\n",
       "      <td>640c28b2da692952d67e3c5d,Did you complete the ...</td>\n",
       "      <td>2023</td>\n",
       "    </tr>\n",
       "    <tr>\n",
       "      <th>4</th>\n",
       "      <td>2023-03-11 07:38:00</td>\n",
       "      <td>group_notification</td>\n",
       "      <td>640c287dda692952d67e3c56,No I have not\\n</td>\n",
       "      <td>2023</td>\n",
       "    </tr>\n",
       "  </tbody>\n",
       "</table>\n",
       "</div>"
      ],
      "text/plain": [
       "                 date                user  \\\n",
       "0 2023-03-11 07:35:00  group_notification   \n",
       "1 2023-03-11 07:37:00  group_notification   \n",
       "2 2023-03-11 07:37:00  group_notification   \n",
       "3 2023-03-11 07:37:00  group_notification   \n",
       "4 2023-03-11 07:38:00  group_notification   \n",
       "\n",
       "                                             message  year  \n",
       "0          640c28b2da692952d67e3c5d,Where are you?\\n  2023  \n",
       "1      640c287dda692952d67e3c56,I am in the office\\n  2023  \n",
       "2          640c287dda692952d67e3c56,Where are you?\\n  2023  \n",
       "3  640c28b2da692952d67e3c5d,Did you complete the ...  2023  \n",
       "4           640c287dda692952d67e3c56,No I have not\\n  2023  "
      ]
     },
     "execution_count": 191,
     "metadata": {},
     "output_type": "execute_result"
    }
   ],
   "source": [
    "df.head()"
   ]
  },
  {
   "cell_type": "code",
   "execution_count": 192,
   "id": "0c6c59b2",
   "metadata": {},
   "outputs": [],
   "source": [
    "df['month'] = df['date'].dt.month_name()"
   ]
  },
  {
   "cell_type": "code",
   "execution_count": 193,
   "id": "82a89fb9",
   "metadata": {},
   "outputs": [],
   "source": [
    "df['day'] = df['date'].dt.day"
   ]
  },
  {
   "cell_type": "code",
   "execution_count": 194,
   "id": "3d71c5a7",
   "metadata": {},
   "outputs": [],
   "source": [
    "df['hour'] = df['date'].dt.hour"
   ]
  },
  {
   "cell_type": "code",
   "execution_count": 195,
   "id": "be7165d8",
   "metadata": {},
   "outputs": [],
   "source": [
    "df['minute'] = df['date'].dt.minute"
   ]
  },
  {
   "cell_type": "code",
   "execution_count": 196,
   "id": "4379e745",
   "metadata": {},
   "outputs": [
    {
     "ename": "KeyError",
     "evalue": "\"['day_name'] not in index\"",
     "output_type": "error",
     "traceback": [
      "\u001b[1;31m---------------------------------------------------------------------------\u001b[0m",
      "\u001b[1;31mKeyError\u001b[0m                                  Traceback (most recent call last)",
      "\u001b[1;32m~\\AppData\\Local\\Temp\\ipykernel_6520\\436352431.py\u001b[0m in \u001b[0;36m<module>\u001b[1;34m\u001b[0m\n\u001b[0;32m      1\u001b[0m \u001b[0mperiod\u001b[0m \u001b[1;33m=\u001b[0m \u001b[1;33m[\u001b[0m\u001b[1;33m]\u001b[0m\u001b[1;33m\u001b[0m\u001b[1;33m\u001b[0m\u001b[0m\n\u001b[1;32m----> 2\u001b[1;33m \u001b[1;32mfor\u001b[0m \u001b[0mhour\u001b[0m \u001b[1;32min\u001b[0m \u001b[0mdf\u001b[0m\u001b[1;33m[\u001b[0m\u001b[1;33m[\u001b[0m\u001b[1;34m'day_name'\u001b[0m\u001b[1;33m,\u001b[0m \u001b[1;34m'hour'\u001b[0m\u001b[1;33m]\u001b[0m\u001b[1;33m]\u001b[0m\u001b[1;33m[\u001b[0m\u001b[1;34m'hour'\u001b[0m\u001b[1;33m]\u001b[0m\u001b[1;33m:\u001b[0m\u001b[1;33m\u001b[0m\u001b[1;33m\u001b[0m\u001b[0m\n\u001b[0m\u001b[0;32m      3\u001b[0m     \u001b[1;32mif\u001b[0m \u001b[0mhour\u001b[0m \u001b[1;33m==\u001b[0m \u001b[1;36m23\u001b[0m\u001b[1;33m:\u001b[0m\u001b[1;33m\u001b[0m\u001b[1;33m\u001b[0m\u001b[0m\n\u001b[0;32m      4\u001b[0m         \u001b[0mperiod\u001b[0m\u001b[1;33m.\u001b[0m\u001b[0mappend\u001b[0m\u001b[1;33m(\u001b[0m\u001b[0mstr\u001b[0m\u001b[1;33m(\u001b[0m\u001b[0mhour\u001b[0m\u001b[1;33m)\u001b[0m \u001b[1;33m+\u001b[0m \u001b[1;34m\"-\"\u001b[0m \u001b[1;33m+\u001b[0m \u001b[0mstr\u001b[0m\u001b[1;33m(\u001b[0m\u001b[1;34m'00'\u001b[0m\u001b[1;33m)\u001b[0m\u001b[1;33m)\u001b[0m\u001b[1;33m\u001b[0m\u001b[1;33m\u001b[0m\u001b[0m\n\u001b[0;32m      5\u001b[0m     \u001b[1;32melif\u001b[0m \u001b[0mhour\u001b[0m \u001b[1;33m==\u001b[0m \u001b[1;36m0\u001b[0m\u001b[1;33m:\u001b[0m\u001b[1;33m\u001b[0m\u001b[1;33m\u001b[0m\u001b[0m\n",
      "\u001b[1;32m~\\AppData\\Roaming\\Python\\Python39\\site-packages\\pandas\\core\\frame.py\u001b[0m in \u001b[0;36m__getitem__\u001b[1;34m(self, key)\u001b[0m\n\u001b[0;32m   3459\u001b[0m             \u001b[1;32mif\u001b[0m \u001b[0mis_iterator\u001b[0m\u001b[1;33m(\u001b[0m\u001b[0mkey\u001b[0m\u001b[1;33m)\u001b[0m\u001b[1;33m:\u001b[0m\u001b[1;33m\u001b[0m\u001b[1;33m\u001b[0m\u001b[0m\n\u001b[0;32m   3460\u001b[0m                 \u001b[0mkey\u001b[0m \u001b[1;33m=\u001b[0m \u001b[0mlist\u001b[0m\u001b[1;33m(\u001b[0m\u001b[0mkey\u001b[0m\u001b[1;33m)\u001b[0m\u001b[1;33m\u001b[0m\u001b[1;33m\u001b[0m\u001b[0m\n\u001b[1;32m-> 3461\u001b[1;33m             \u001b[0mindexer\u001b[0m \u001b[1;33m=\u001b[0m \u001b[0mself\u001b[0m\u001b[1;33m.\u001b[0m\u001b[0mloc\u001b[0m\u001b[1;33m.\u001b[0m\u001b[0m_get_listlike_indexer\u001b[0m\u001b[1;33m(\u001b[0m\u001b[0mkey\u001b[0m\u001b[1;33m,\u001b[0m \u001b[0maxis\u001b[0m\u001b[1;33m=\u001b[0m\u001b[1;36m1\u001b[0m\u001b[1;33m)\u001b[0m\u001b[1;33m[\u001b[0m\u001b[1;36m1\u001b[0m\u001b[1;33m]\u001b[0m\u001b[1;33m\u001b[0m\u001b[1;33m\u001b[0m\u001b[0m\n\u001b[0m\u001b[0;32m   3462\u001b[0m \u001b[1;33m\u001b[0m\u001b[0m\n\u001b[0;32m   3463\u001b[0m         \u001b[1;31m# take() does not accept boolean indexers\u001b[0m\u001b[1;33m\u001b[0m\u001b[1;33m\u001b[0m\u001b[0m\n",
      "\u001b[1;32m~\\AppData\\Roaming\\Python\\Python39\\site-packages\\pandas\\core\\indexing.py\u001b[0m in \u001b[0;36m_get_listlike_indexer\u001b[1;34m(self, key, axis)\u001b[0m\n\u001b[0;32m   1312\u001b[0m             \u001b[0mkeyarr\u001b[0m\u001b[1;33m,\u001b[0m \u001b[0mindexer\u001b[0m\u001b[1;33m,\u001b[0m \u001b[0mnew_indexer\u001b[0m \u001b[1;33m=\u001b[0m \u001b[0max\u001b[0m\u001b[1;33m.\u001b[0m\u001b[0m_reindex_non_unique\u001b[0m\u001b[1;33m(\u001b[0m\u001b[0mkeyarr\u001b[0m\u001b[1;33m)\u001b[0m\u001b[1;33m\u001b[0m\u001b[1;33m\u001b[0m\u001b[0m\n\u001b[0;32m   1313\u001b[0m \u001b[1;33m\u001b[0m\u001b[0m\n\u001b[1;32m-> 1314\u001b[1;33m         \u001b[0mself\u001b[0m\u001b[1;33m.\u001b[0m\u001b[0m_validate_read_indexer\u001b[0m\u001b[1;33m(\u001b[0m\u001b[0mkeyarr\u001b[0m\u001b[1;33m,\u001b[0m \u001b[0mindexer\u001b[0m\u001b[1;33m,\u001b[0m \u001b[0maxis\u001b[0m\u001b[1;33m)\u001b[0m\u001b[1;33m\u001b[0m\u001b[1;33m\u001b[0m\u001b[0m\n\u001b[0m\u001b[0;32m   1315\u001b[0m \u001b[1;33m\u001b[0m\u001b[0m\n\u001b[0;32m   1316\u001b[0m         if needs_i8_conversion(ax.dtype) or isinstance(\n",
      "\u001b[1;32m~\\AppData\\Roaming\\Python\\Python39\\site-packages\\pandas\\core\\indexing.py\u001b[0m in \u001b[0;36m_validate_read_indexer\u001b[1;34m(self, key, indexer, axis)\u001b[0m\n\u001b[0;32m   1375\u001b[0m \u001b[1;33m\u001b[0m\u001b[0m\n\u001b[0;32m   1376\u001b[0m             \u001b[0mnot_found\u001b[0m \u001b[1;33m=\u001b[0m \u001b[0mlist\u001b[0m\u001b[1;33m(\u001b[0m\u001b[0mensure_index\u001b[0m\u001b[1;33m(\u001b[0m\u001b[0mkey\u001b[0m\u001b[1;33m)\u001b[0m\u001b[1;33m[\u001b[0m\u001b[0mmissing_mask\u001b[0m\u001b[1;33m.\u001b[0m\u001b[0mnonzero\u001b[0m\u001b[1;33m(\u001b[0m\u001b[1;33m)\u001b[0m\u001b[1;33m[\u001b[0m\u001b[1;36m0\u001b[0m\u001b[1;33m]\u001b[0m\u001b[1;33m]\u001b[0m\u001b[1;33m.\u001b[0m\u001b[0munique\u001b[0m\u001b[1;33m(\u001b[0m\u001b[1;33m)\u001b[0m\u001b[1;33m)\u001b[0m\u001b[1;33m\u001b[0m\u001b[1;33m\u001b[0m\u001b[0m\n\u001b[1;32m-> 1377\u001b[1;33m             \u001b[1;32mraise\u001b[0m \u001b[0mKeyError\u001b[0m\u001b[1;33m(\u001b[0m\u001b[1;34mf\"{not_found} not in index\"\u001b[0m\u001b[1;33m)\u001b[0m\u001b[1;33m\u001b[0m\u001b[1;33m\u001b[0m\u001b[0m\n\u001b[0m\u001b[0;32m   1378\u001b[0m \u001b[1;33m\u001b[0m\u001b[0m\n\u001b[0;32m   1379\u001b[0m \u001b[1;33m\u001b[0m\u001b[0m\n",
      "\u001b[1;31mKeyError\u001b[0m: \"['day_name'] not in index\""
     ]
    }
   ],
   "source": [
    "period = []\n",
    "for hour in df[['day_name', 'hour']]['hour']:\n",
    "    if hour == 23:\n",
    "        period.append(str(hour) + \"-\" + str('00'))\n",
    "    elif hour == 0:\n",
    "        period.append(str(hour) + \"-\" + str(hour + 1))\n",
    "    else:\n",
    "        period.append(str(hour) + \"-\" + str(hour + 1))\n",
    "\n",
    "df['period'] = period"
   ]
  },
  {
   "cell_type": "code",
   "execution_count": null,
   "id": "4dd75b95",
   "metadata": {},
   "outputs": [],
   "source": [
    "df.head()"
   ]
  },
  {
   "cell_type": "code",
   "execution_count": null,
   "id": "839036fb",
   "metadata": {},
   "outputs": [],
   "source": [
    "words = []\n",
    "for message in df['message']:\n",
    "    #print(message.split())\n",
    "    words.extend(message.split())"
   ]
  },
  {
   "cell_type": "code",
   "execution_count": null,
   "id": "001bd1a8",
   "metadata": {},
   "outputs": [],
   "source": [
    "len(words)"
   ]
  },
  {
   "cell_type": "code",
   "execution_count": null,
   "id": "3a54bfe7",
   "metadata": {},
   "outputs": [],
   "source": [
    "data = df.dropna()"
   ]
  },
  {
   "cell_type": "code",
   "execution_count": null,
   "id": "a6c06b29",
   "metadata": {},
   "outputs": [],
   "source": [
    "data"
   ]
  },
  {
   "cell_type": "code",
   "execution_count": null,
   "id": "992885f8",
   "metadata": {},
   "outputs": [],
   "source": []
  },
  {
   "cell_type": "code",
   "execution_count": null,
   "id": "3d0d038e",
   "metadata": {},
   "outputs": [],
   "source": [
    "sentiments = SentimentIntensityAnalyzer()"
   ]
  },
  {
   "cell_type": "code",
   "execution_count": null,
   "id": "81b21928",
   "metadata": {},
   "outputs": [],
   "source": [
    "data[\"Positive\"] = [sentiments.polarity_scores(i)[\"pos\"] for i in data[\"message\"]]\n",
    "data[\"Negative\"] = [sentiments.polarity_scores(i)[\"neg\"] for i in data[\"message\"]]\n",
    "data[\"Neutral\"] = [sentiments.polarity_scores(i)[\"neu\"] for i in data[\"message\"]]"
   ]
  },
  {
   "cell_type": "code",
   "execution_count": null,
   "id": "86bb4be4",
   "metadata": {},
   "outputs": [],
   "source": [
    "print(data.tail())"
   ]
  },
  {
   "cell_type": "code",
   "execution_count": null,
   "id": "44875a3d",
   "metadata": {},
   "outputs": [],
   "source": [
    "x = sum(data[\"Positive\"])\n",
    "y = sum(data[\"Negative\"])\n",
    "z = sum(data[\"Neutral\"])"
   ]
  },
  {
   "cell_type": "code",
   "execution_count": null,
   "id": "9a3e2804",
   "metadata": {},
   "outputs": [],
   "source": [
    "def sentiment_score(a, b, c):\n",
    "    if (a>b) and (a>c):\n",
    "        print(\"Positive 😊 \")\n",
    "    elif (b>a) and (b>c):\n",
    "        print(\"Negative 😠 \")\n",
    "    else:\n",
    "        print(\"Neutral 🙂 \")"
   ]
  },
  {
   "cell_type": "code",
   "execution_count": null,
   "id": "875013b0",
   "metadata": {},
   "outputs": [],
   "source": [
    "sentiment_score(x,y,z)"
   ]
  },
  {
   "cell_type": "code",
   "execution_count": null,
   "id": "ca9a447a",
   "metadata": {},
   "outputs": [],
   "source": [
    "data.value_counts(normalize=True)"
   ]
  },
  {
   "cell_type": "code",
   "execution_count": null,
   "id": "cd083bb9",
   "metadata": {},
   "outputs": [],
   "source": []
  },
  {
   "cell_type": "code",
   "execution_count": null,
   "id": "dee4f41d",
   "metadata": {},
   "outputs": [],
   "source": []
  },
  {
   "cell_type": "code",
   "execution_count": null,
   "id": "a8f3b38a",
   "metadata": {},
   "outputs": [],
   "source": []
  },
  {
   "cell_type": "code",
   "execution_count": null,
   "id": "e38eb7af",
   "metadata": {},
   "outputs": [],
   "source": []
  }
 ],
 "metadata": {
  "kernelspec": {
   "display_name": "Python 3 (ipykernel)",
   "language": "python",
   "name": "python3"
  },
  "language_info": {
   "codemirror_mode": {
    "name": "ipython",
    "version": 3
   },
   "file_extension": ".py",
   "mimetype": "text/x-python",
   "name": "python",
   "nbconvert_exporter": "python",
   "pygments_lexer": "ipython3",
   "version": "3.9.13"
  }
 },
 "nbformat": 4,
 "nbformat_minor": 5
}
